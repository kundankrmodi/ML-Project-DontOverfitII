{
 "cells": [
  {
   "cell_type": "code",
   "execution_count": 1,
   "metadata": {},
   "outputs": [],
   "source": [
    "import pandas as pd\n",
    "import xgboost\n",
    "test = pd.read_csv(\"test.csv\")\n",
    "master_train = pd.read_csv(\"train.csv\")\n",
    "train = master_train.drop(columns=[\"target\",\"id\"])\n",
    "test = test.drop(columns=[\"id\"])"
   ]
  },
  {
   "cell_type": "code",
   "execution_count": 51,
   "metadata": {},
   "outputs": [
    {
     "name": "stdout",
     "output_type": "stream",
     "text": [
      "XGBClassifier(base_score=0.5, booster='gbtree', colsample_bylevel=1,\n",
      "       colsample_bytree=1, gamma=0.1, learning_rate=0.3, max_delta_step=0,\n",
      "       max_depth=1, min_child_weight=1, missing=None, n_estimators=100,\n",
      "       n_jobs=1, nthread=None, objective='binary:logistic', random_state=0,\n",
      "       reg_alpha=1, reg_lambda=3, scale_pos_weight=1, seed=None,\n",
      "       silent=True, subsample=1)\n"
     ]
    }
   ],
   "source": [
    "from xgboost import XGBClassifier\n",
    "model = XGBClassifier(learning_rate=.3, max_depth=1, gamma=.1, reg_lambda=3, reg_alpha=1)\n",
    "model.fit(X=train, y=master_train[\"target\"])\n",
    "print(model)"
   ]
  },
  {
   "cell_type": "code",
   "execution_count": 52,
   "metadata": {},
   "outputs": [
    {
     "data": {
      "text/plain": [
       "''"
      ]
     },
     "execution_count": 52,
     "metadata": {},
     "output_type": "execute_result"
    }
   ],
   "source": [
    "pred = model.predict(test)\n",
    "predictions = [round(value) for value in pred]\n",
    ";"
   ]
  },
  {
   "cell_type": "code",
   "execution_count": 53,
   "metadata": {},
   "outputs": [],
   "source": [
    "import csv\n",
    "csvData = [['id', 'target']]\n",
    "for i in range(len(pred)):\n",
    "    csvData.append([str(i+250),str(int(pred[i]))])\n",
    "\n",
    "with open('xgboost_test15.csv', 'w',newline='') as csvFile:\n",
    "    writer = csv.writer(csvFile)\n",
    "    writer.writerows(csvData)\n",
    "\n",
    "csvFile.close()"
   ]
  },
  {
   "cell_type": "markdown",
   "metadata": {},
   "source": [
    "Results: (LR = .1, min_child_weight = 1, max_Depth = 3, gamma = 0, reg_lambda = 1, reg_alpha = 0 by default)\n",
    "\n",
    "Defaults: .65\n",
    "\n",
    "Could vary this based on other parameters, but as of right now 2 seems good, try 1 and 3 for different variables maybe?\n",
    "max_depth_1 = .654*********\n",
    "max_depth_2 = .661*********\n",
    "max_depth_5 = .642\n",
    "max_depth_7 = .624\n",
    "\n",
    "\n",
    "Higher values avoid overfitting, shouldn't be decreasing, should be increasing, duh. But it is getting worse as the weight increases, so that's a little bizarre.\n",
    "min_child_weight_.1 = .648\n",
    "min_child_weight_.5 = .634\n",
    "min_child_weight_2  = .63\n",
    "\n",
    "\n",
    "Typically ranges from .01 to .2, but it was on its way up, could try higher learning rate values\n",
    "learning_rate_.01 = .621\n",
    "learning_rate_.05 = .645\n",
    "learning_rate_.2  = .66*********\n",
    "\n",
    "\n",
    "Just varies, doesn't seem to be helping much but it could be good to vary with other variables\n",
    "gamma_.01 = .65\n",
    "gamma_.1  = .652*********\n",
    "gamma_.15 = .643\n",
    "gamma_.25 = .64\n",
    "gamma_.5  = .639\n",
    "\n",
    "\n",
    "reg_lambda is for Ridge Regression\n",
    "reg_lambda_0  = .642\n",
    "reg_lambda_.1 = .648\n",
    "reg_lambda_.5 = .645\n",
    "reg_lambda_.75= .648\n",
    "reg_lambda_1.5= .659********\n",
    "reg_lambda_2  = .634\n",
    "\n",
    "\n",
    "reg_alpha is for Lasso Regression\n",
    "reg_alpha_.5 = .646\n",
    "reg_alpha_.75= .646\n",
    "reg_alpha_1  = .652*********\n",
    "reg_alpha_1.5= .65\n",
    "reg_alpha_2  = .647\n",
    "\n",
    "\n",
    "Final parameter sets to test:\n",
    "learning rate .2, max depth 2, gamma 0, lambda 1.5, alpha 1  =test1,  .662\n",
    "learning rate .2, max depth 1, gamma 0, lambda 1.5, alpha 1  =test2,  .668\n",
    "learning rate .3, max depth 1, gamma 0, lambda 1.5, alpha 1  =test3,  .675\n",
    "learning rate .2, max depth 1, gamma .1, lambda 1.5, alpha 1 =test4,  .675\n",
    "learning rate .2, max depth 2, gamma .1, lambda 1.5, alpha 1 =test5,  .657\n",
    "\n",
    "\n",
    "best so far is test 3/4\n",
    "learning rate .3, max depth 1, gamma 0, lambda 1.5, alpha 1  =test3,  .675\n",
    "learning rate .2, max depth 1, gamma .1, lambda 1.5, alpha 1 =test4,  .675\n",
    "\n",
    "convolutions (10)\n",
    "learning rate .3, max depth 2, gamma 0, lambda 1.5, alpha 1  =test6,  .654\n",
    "learning rate .2, max depth 2, gamma .1, lambda 1, alpha 1   =test7,  .663\n",
    "learning rate .2, max depth 2, gamma .1, lambda 2, alpha 1   =test8,  .653\n",
    "learning rate .2, max depth 2, gamma .1, lambda 3, alpha 1   =test9,  .65\n",
    "learning rate .2, max depth 1, gamma .1, lambda 1, alpha 1   =test10, .668\n",
    "learning rate .2, max depth 1, gamma .1, lambda 2, alpha 1   =test11, .668\n",
    "learning rate .2, max depth 1, gamma .1, lambda 3, alpha 1   =test12, .663\n",
    "learning rate .3, max depth 1, gamma .1, lambda 1, alpha 1   =test13, .672\n",
    "learning rate .3, max depth 1, gamma .1, lambda 2, alpha 1   =test14, .662\n",
    "learning rate .3, max depth 1, gamma .1, lambda 3, alpha 1   =test15, .672"
   ]
  },
  {
   "cell_type": "markdown",
   "metadata": {},
   "source": [
    "https://dask-ml.readthedocs.io/en/stable/modules/generated/dask_ml.xgboost.XGBClassifier.html"
   ]
  },
  {
   "cell_type": "markdown",
   "metadata": {},
   "source": [
    "# Variable Selected XGBoost"
   ]
  },
  {
   "cell_type": "code",
   "execution_count": 5,
   "metadata": {},
   "outputs": [],
   "source": [
    "import pandas as pd\n",
    "import xgboost\n",
    "test = pd.read_csv(\"test.csv\")\n",
    "master_train = pd.read_csv(\"train.csv\")\n",
    "train = master_train[[\"16\",\"33\",\"65\",\"73\",\"91\",\"117\",\"199\",\"217\"]]\n",
    "test = test[[\"16\",\"33\",\"65\",\"73\",\"91\",\"117\",\"199\",\"217\"]]"
   ]
  },
  {
   "cell_type": "code",
   "execution_count": 15,
   "metadata": {},
   "outputs": [
    {
     "name": "stdout",
     "output_type": "stream",
     "text": [
      "XGBClassifier(base_score=0.5, booster='gbtree', colsample_bylevel=1,\n",
      "       colsample_bytree=1, gamma=0, learning_rate=1, max_delta_step=0,\n",
      "       max_depth=2, min_child_weight=1, missing=None, n_estimators=100,\n",
      "       n_jobs=1, nthread=None, objective='binary:logistic', random_state=0,\n",
      "       reg_alpha=0, reg_lambda=1, scale_pos_weight=1, seed=None,\n",
      "       silent=True, subsample=1)\n"
     ]
    }
   ],
   "source": [
    "from xgboost import XGBClassifier\n",
    "model = XGBClassifier(max_depth = 2, learning_rate=1)\n",
    "model.fit(X=train, y=master_train[\"target\"])\n",
    "print(model)"
   ]
  },
  {
   "cell_type": "code",
   "execution_count": 16,
   "metadata": {},
   "outputs": [
    {
     "data": {
      "text/plain": [
       "''"
      ]
     },
     "execution_count": 16,
     "metadata": {},
     "output_type": "execute_result"
    }
   ],
   "source": [
    "pred = model.predict(test)\n",
    "predictions = [round(value) for value in pred]\n",
    ";"
   ]
  },
  {
   "cell_type": "code",
   "execution_count": 17,
   "metadata": {},
   "outputs": [],
   "source": [
    "import csv\n",
    "csvData = [['id', 'target']]\n",
    "for i in range(len(pred)):\n",
    "    csvData.append([str(i+250),str(int(pred[i]))])\n",
    "\n",
    "with open('xgboost_vs_test8.csv', 'w',newline='') as csvFile:\n",
    "    writer = csv.writer(csvFile)\n",
    "    writer.writerows(csvData)\n",
    "\n",
    "csvFile.close()"
   ]
  },
  {
   "cell_type": "markdown",
   "metadata": {},
   "source": [
    "Results: (LR = .1, min_child_weight = 1, max_Depth = 3, gamma = 0, reg_lambda = 1, reg_alpha = 0 by default)\n",
    "    \n",
    "Default: .702\n",
    "\n",
    "max_depth_1 = .\n",
    "max_depth_2 = .\n",
    "max_depth_5 = .\n",
    "max_depth_7 = .\n",
    "\n",
    "learning rate .3, max depth 1, gamma 0, lambda 1.5, alpha 1  =vs_test1,  .712\n",
    "learning rate .2, max depth 1, gamma .1, lambda 1.5, alpha 1 =vs_test2,  .703\n",
    "learning rate .3, max depth 1                                =vs_test3,  .725\n",
    "learning rate .3                                             =vs_test4,  .707\n",
    "\n",
    "learning rate .3, max depth 2                                =vs_test5,  .712\n",
    "learning rate .5, max depth 2                                =vs_test6,  .714\n",
    "learning rate .4, max depth 2                                =vs_test7,  .714\n",
    "learning rate 1, max depth 2                                 =vs_test8,  .704"
   ]
  }
 ],
 "metadata": {
  "kernelspec": {
   "display_name": "Python 3",
   "language": "python",
   "name": "python3"
  },
  "language_info": {
   "codemirror_mode": {
    "name": "ipython",
    "version": 3
   },
   "file_extension": ".py",
   "mimetype": "text/x-python",
   "name": "python",
   "nbconvert_exporter": "python",
   "pygments_lexer": "ipython3",
   "version": "3.7.3"
  }
 },
 "nbformat": 4,
 "nbformat_minor": 2
}
