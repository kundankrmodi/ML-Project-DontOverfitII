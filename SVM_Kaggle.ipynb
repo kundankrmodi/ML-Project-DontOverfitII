{
 "cells": [
  {
   "cell_type": "code",
   "execution_count": 70,
   "metadata": {},
   "outputs": [],
   "source": [
    "import pandas as pd\n",
    "from sklearn.model_selection import train_test_split\n",
    "from sklearn.linear_model import LogisticRegression\n",
    "from sklearn.preprocessing import StandardScaler\n",
    "from sklearn.svm import SVC\n",
    "from sklearn.metrics import accuracy_score\n",
    "from sklearn.model_selection import GridSearchCV"
   ]
  },
  {
   "cell_type": "code",
   "execution_count": 71,
   "metadata": {},
   "outputs": [],
   "source": [
    "import os\n",
    "# print(os.listdir(\"../srujananagaraj\"))\n",
    "train=pd.read_csv('../srujananagaraj/train.csv')\n",
    "test=pd.read_csv('../srujananagaraj/test.csv')\n",
    "train.shape, test.shape\n",
    "# Preparing the data\n",
    "X=train.drop(['id','target'],axis=1)\n",
    "y=train['target']\n",
    "\n",
    "X_test=test.drop(['id'],axis=1)\n",
    "\n",
    "# Splitting the dataset in training and validation\n",
    "from sklearn.model_selection import train_test_split\n",
    "X_train, X_val, y_train, y_val = train_test_split(X, y, test_size = 0.25, shuffle = None, random_state = 0)\n",
    "\n",
    "from sklearn.preprocessing import StandardScaler\n",
    "scaler = StandardScaler()\n",
    "train_ = scaler.fit_transform(X_train)\n",
    "val_= scaler.fit_transform(X_val)\n",
    "test_ = scaler.transform(X_test)"
   ]
  },
  {
   "cell_type": "code",
   "execution_count": 74,
   "metadata": {},
   "outputs": [
    {
     "name": "stdout",
     "output_type": "stream",
     "text": [
      "{'C': 0.01, 'kernel': 'linear', 'probability': True}\n",
      "0.7142857142857143\n"
     ]
    },
    {
     "name": "stderr",
     "output_type": "stream",
     "text": [
      "/anaconda3/lib/python3.7/site-packages/sklearn/model_selection/_search.py:841: DeprecationWarning: The default of the `iid` parameter will change from True to False in version 0.22 and will be removed in 0.24. This will change numeric results when test-set sizes are unequal.\n",
      "  DeprecationWarning)\n"
     ]
    }
   ],
   "source": [
    "svc = SVC()\n",
    "param_grid = [{'kernel':['linear'], 'C': [0.001, 0.01, 0.1, 1, 10, 100], 'probability':[True]}]\n",
    "\n",
    "gs = GridSearchCV(svc, param_grid, cv = 5)\n",
    "gs.fit(X_val, y_val)\n",
    "\n",
    "print (gs.best_params_)\n",
    "svc = SVC(**gs.best_params_)\n",
    "svc.fit(train_, y_train)\n",
    "yP = svc.predict(X_val)\n",
    "\n",
    "print(accuracy_score(y_val, yP))\n"
   ]
  },
  {
   "cell_type": "code",
   "execution_count": 73,
   "metadata": {},
   "outputs": [],
   "source": [
    "y_pred_final = svc.predict_proba(test_)[:,1]\n",
    "\n",
    "submission = pd.DataFrame({\"id\": test[\"id\"],\"target\": y_pred_final})\n",
    "submission.to_csv('submission.csv', index=False)"
   ]
  },
  {
   "cell_type": "code",
   "execution_count": null,
   "metadata": {},
   "outputs": [],
   "source": []
  }
 ],
 "metadata": {
  "kernelspec": {
   "display_name": "Python 3",
   "language": "python",
   "name": "python3"
  },
  "language_info": {
   "codemirror_mode": {
    "name": "ipython",
    "version": 3
   },
   "file_extension": ".py",
   "mimetype": "text/x-python",
   "name": "python",
   "nbconvert_exporter": "python",
   "pygments_lexer": "ipython3",
   "version": "3.7.3"
  }
 },
 "nbformat": 4,
 "nbformat_minor": 2
}
